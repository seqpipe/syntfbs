{
 "cells": [
  {
   "cell_type": "code",
   "execution_count": 1,
   "metadata": {},
   "outputs": [],
   "source": [
    "import matplotlib\n",
    "import numpy as np\n",
    "import matplotlib.pyplot as plt"
   ]
  },
  {
   "cell_type": "code",
   "execution_count": 2,
   "metadata": {},
   "outputs": [],
   "source": [
    "%matplotlib inline"
   ]
  },
  {
   "cell_type": "code",
   "execution_count": 3,
   "metadata": {},
   "outputs": [],
   "source": [
    "import h5py"
   ]
  },
  {
   "cell_type": "code",
   "execution_count": 4,
   "metadata": {},
   "outputs": [
    {
     "name": "stdout",
     "output_type": "stream",
     "text": [
      "<KeysViewHDF5 ['binlabels', 'data', 'labels']>\n"
     ]
    },
    {
     "data": {
      "text/plain": [
       "(array([[271684.,  28316.],\n",
       "        [294314.,   5686.],\n",
       "        [282806.,  17194.],\n",
       "        [294515.,   5485.],\n",
       "        [286254.,  13746.],\n",
       "        [281763.,  18237.],\n",
       "        [291263.,   8737.],\n",
       "        [283229.,  16771.],\n",
       "        [280714.,  19286.],\n",
       "        [288397.,  11603.],\n",
       "        [273362.,  26638.],\n",
       "        [275892.,  24108.],\n",
       "        [285581.,  14419.],\n",
       "        [271833.,  28167.],\n",
       "        [282726.,  17274.],\n",
       "        [292974.,   7026.],\n",
       "        [281551.,  18449.],\n",
       "        [280944.,  19056.],\n",
       "        [270723.,  29277.],\n",
       "        [293427.,   6573.],\n",
       "        [291240.,   8760.],\n",
       "        [300000.,      0.],\n",
       "        [263301.,  36699.],\n",
       "        [273434.,  26566.],\n",
       "        [285087.,  14913.],\n",
       "        [255888.,  44112.],\n",
       "        [290064.,   9936.],\n",
       "        [284185.,  15815.],\n",
       "        [274672.,  25328.],\n",
       "        [284754.,  15246.],\n",
       "        [300000.,      0.]]),\n",
       " array([0. , 0.5, 1. ]),\n",
       " <a list of 31 BarContainer objects>)"
      ]
     },
     "execution_count": 4,
     "metadata": {},
     "output_type": "execute_result"
    },
    {
     "data": {
      "image/png": "[encoded data removed]",
      "text/plain": [
       "<Figure size 432x288 with 1 Axes>"
      ]
     },
     "metadata": {
      "needs_background": "light"
     },
     "output_type": "display_data"
    }
   ],
   "source": [
    "filename = f\"../FOX_train_5000.h5\"\n",
    "data = h5py.File(filename, 'r')\n",
    "print(data.keys())\n",
    "binlabels = data[\"binlabels\"][:]\n",
    "plt.hist(binlabels, bins=2)\n"
   ]
  },
  {
   "cell_type": "code",
   "execution_count": 5,
   "metadata": {},
   "outputs": [],
   "source": [
    "labels = data[\"labels\"][:]"
   ]
  },
  {
   "cell_type": "code",
   "execution_count": 6,
   "metadata": {},
   "outputs": [
    {
     "data": {
      "image/png": "[encoded data removed]",
      "text/plain": [
       "<Figure size 432x288 with 1 Axes>"
      ]
     },
     "metadata": {
      "needs_background": "light"
     },
     "output_type": "display_data"
    }
   ],
   "source": [
    "plt.hist(labels, bins=100);"
   ]
  },
  {
   "cell_type": "code",
   "execution_count": 7,
   "metadata": {},
   "outputs": [
    {
     "data": {
      "text/plain": [
       "(array([[278338.,  21662.],\n",
       "        [273310.,  26690.],\n",
       "        [296846.,   3154.],\n",
       "        [239031.,  60969.],\n",
       "        [272256.,  27744.],\n",
       "        [281049.,  18951.],\n",
       "        [291160.,   8840.],\n",
       "        [282367.,  17633.],\n",
       "        [300000.,      0.],\n",
       "        [300000.,      0.],\n",
       "        [300000.,      0.],\n",
       "        [275755.,  24245.],\n",
       "        [269066.,  30934.],\n",
       "        [271090.,  28910.],\n",
       "        [281580.,  18420.],\n",
       "        [256717.,  43283.],\n",
       "        [253614.,  46386.]]),\n",
       " array([0. , 0.5, 1. ]),\n",
       " <a list of 17 BarContainer objects>)"
      ]
     },
     "execution_count": 7,
     "metadata": {},
     "output_type": "execute_result"
    },
    {
     "data": {
      "image/png": "[encoded data removed]",
      "text/plain": [
       "<Figure size 432x288 with 1 Axes>"
      ]
     },
     "metadata": {
      "needs_background": "light"
     },
     "output_type": "display_data"
    }
   ],
   "source": [
    "filename = f\"../GATA_train_5000.h5\"\n",
    "data = h5py.File(filename, 'r')\n",
    "binlabels = data[\"binlabels\"][:]\n",
    "plt.hist(binlabels, bins=2)\n"
   ]
  },
  {
   "cell_type": "code",
   "execution_count": 8,
   "metadata": {},
   "outputs": [
    {
     "data": {
      "image/png": "[encoded data removed]",
      "text/plain": [
       "<Figure size 432x288 with 1 Axes>"
      ]
     },
     "metadata": {
      "needs_background": "light"
     },
     "output_type": "display_data"
    }
   ],
   "source": [
    "labels = data[\"labels\"][:]\n",
    "plt.hist(labels, bins=100);"
   ]
  },
  {
   "cell_type": "code",
   "execution_count": null,
   "metadata": {},
   "outputs": [],
   "source": []
  }
 ],
 "metadata": {
  "kernelspec": {
   "display_name": "Python 3.8.1 64-bit ('deepsea': conda)",
   "language": "python",
   "name": "python38164bitdeepseaconda21e7d0ea606349479944acc721a4e979"
  },
  "language_info": {
   "codemirror_mode": {
    "name": "ipython",
    "version": 3
   },
   "file_extension": ".py",
   "mimetype": "text/x-python",
   "name": "python",
   "nbconvert_exporter": "python",
   "pygments_lexer": "ipython3",
   "version": "3.8.1"
  }
 },
 "nbformat": 4,
 "nbformat_minor": 4
}
